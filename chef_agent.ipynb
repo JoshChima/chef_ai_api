{
 "cells": [
  {
   "cell_type": "markdown",
   "metadata": {},
   "source": [
    "# Chef Agent"
   ]
  },
  {
   "cell_type": "code",
   "execution_count": 30,
   "metadata": {},
   "outputs": [
    {
     "data": {
      "text/plain": [
       "True"
      ]
     },
     "execution_count": 30,
     "metadata": {},
     "output_type": "execute_result"
    }
   ],
   "source": [
    "from langchain_openai import OpenAIEmbeddings\n",
    "from dotenv import load_dotenv\n",
    "from langsmith import utils, traceable\n",
    "import networkx as nx\n",
    "import matplotlib.pyplot as plt\n",
    "\n",
    "load_dotenv(dotenv_path='../.env')\n",
    "\n",
    "utils.tracing_is_enabled()"
   ]
  },
  {
   "cell_type": "markdown",
   "metadata": {},
   "source": [
    "## State"
   ]
  },
  {
   "cell_type": "code",
   "execution_count": 31,
   "metadata": {},
   "outputs": [],
   "source": [
    "\"\"\"State management.\n",
    "\n",
    "This module defines the state structures used by the conversational agent.\n",
    "\n",
    "sources: https://github.com/langchain-ai/chat-langchain/blob/master/backend/retrieval_graph/state.py\n",
    "\"\"\"\n",
    "\n",
    "from dataclasses import dataclass, field\n",
    "from typing import Annotated, Literal, Optional\n",
    "\n",
    "from langchain_core.documents import Document\n",
    "from langchain_core.messages import AnyMessage\n",
    "from langgraph.graph import add_messages\n",
    "from typing_extensions import TypedDict\n",
    "\n",
    "@dataclass(kw_only=True)\n",
    "class InputState:\n",
    "    \"\"\"Represent the structure of the input state.\n",
    "\n",
    "    This class defines the structure of accepted inputs that can be passed in externally from the user or upstream services.\n",
    "\n",
    "    messages: A list of messages from current conversation.\n",
    "    ingredients (optional): A list of ingredients tags to query on.\n",
    "    recipe (optional): A recipe to be used in scope of the query.\n",
    "    \"\"\"\n",
    "\n",
    "    messages: Annotated[list[AnyMessage], add_messages]\n",
    "    ingredients: list[str] = field(default_factory=list)\n",
    "    recipe: Optional[Document] = None\n",
    "\n",
    "@dataclass(kw_only=True)\n",
    "class OutputResponse(TypedDict):\n",
    "    answer: str    \n",
    "    sources: list[Document]\n",
    "\n",
    "class QueryRouter(TypedDict):\n",
    "    \"\"\"Classify user query\"\"\"\n",
    "\n",
    "    type: Literal[\"search\", \"ingredient_check\", \"ask_user_info\", \"review_and_reflect\"]\n",
    "    search_scope_type: Optional[Literal[\"recipe\", \"all\"]]\n",
    "\n",
    "class QueryRouterOverride(QueryRouter):\n",
    "    \"\"\"Additional Route Parameters\"\"\"\n",
    "\n",
    "    # Optional, for nodes that call \n",
    "    route_override: str\n",
    "\n",
    "class ChefState(InputState):\n",
    "    \"\"\"State of the chef agent.\"\"\"\n",
    "    \n",
    "    query_router: QueryRouter = field(default_factory=lambda: QueryRouter(type=\"prepare_search_query\", search_scope_type=\"all\"))\n",
    "    \"\"\"The router's classification for the query.\"\"\"\n",
    "\n",
    "    documents: dict[Document] = field(default_factory=dict)\n",
    "    \"\"\"Populated documents from retrieval nodes.\"\"\"\n",
    "\n",
    "    answer: Optional[OutputResponse] = None\n",
    "\n",
    "\n"
   ]
  },
  {
   "cell_type": "markdown",
   "metadata": {},
   "source": [
    "## Prompts"
   ]
  },
  {
   "cell_type": "code",
   "execution_count": null,
   "metadata": {},
   "outputs": [],
   "source": [
    "SEARCHER_PROMPT = \"\"\"You are a helpful assistant that helps to gather information about recipes and cooking related topics.\n",
    "\n",
    "<instructions>\n",
    "<instruction> Answer the question based only on the context provided. </instruction>\n",
    "</instructions>\n",
    "\n",
    "<context> \n",
    "{context} \n",
    "</context>\n",
    "\n",
    "<question> {question} </question>\n",
    "\"\"\"\n",
    "\n",
    "SOURCE_EXPLAINATION_PROMPT = \"\"\"You are a helpful assistant that helps to gather information about recipes and cooking related topics.\n",
    "\n",
    "<instructions>\n",
    "<instruction> For the provided source, provide an short sentence explaination on why the source is relevent to the question. </instruction>\n",
    "<instruction> Use the provided explaination template to generate the sentences</instruction>\n",
    "</instructions>\n",
    "\n",
    "<explaination_template>\n",
    "    Found relevent source [source_id] : [explaination]\n",
    "</explaination_template>\n",
    "\n",
    "<context> \n",
    "    <question> {question} </question>\n",
    "    <source> {context} </source>\n",
    "</context>\n",
    "\"\"\"\n",
    "\n",
    "GENERATE_SEARCH_QUERY_PROMPT = \"\"\"You are a helpful assistant that helps to descern what the user is looking to search for.\n",
    "\n",
    "<instructions>\n",
    "<instruction> Generate a search query based on the conversation content provided. </instruction>\n",
    "<instruction> Not all messages may be relevent to the current question the user is trying to find. Try to descern the most recent query request the user made </instruction>\n",
    "<instruction> re-write the users query to be more specific and concise </instruction>\n",
    "<instruction> return the exact re-written query as your response and nothing else </instruction>\n",
    "</instructions>\n",
    "\"\"\""
   ]
  },
  {
   "cell_type": "markdown",
   "metadata": {},
   "source": [
    "## Search Node"
   ]
  },
  {
   "cell_type": "code",
   "execution_count": 33,
   "metadata": {},
   "outputs": [],
   "source": [
    "from langchain_chroma.vectorstores import Chroma\n",
    "from langchain_graph_retriever.transformers import ShreddingTransformer\n",
    "from langchain_graph_retriever.adapters.chroma import ChromaAdapter\n",
    "from graph_retriever.strategies import Eager\n",
    "from langchain_graph_retriever import GraphRetriever"
   ]
  },
  {
   "cell_type": "markdown",
   "metadata": {},
   "source": [
    "### Load GraphRag Retriever"
   ]
  },
  {
   "cell_type": "code",
   "execution_count": 34,
   "metadata": {},
   "outputs": [],
   "source": [
    "def load_graph_traversal_retriever(embedding_model=\"text-embedding-3-large\", collection_name=\"recipe_qa_combined\", persist_directory=\"./data/recipe_qa_combined_chroma_db\"):\n",
    "    embeddings = OpenAIEmbeddings(model=embedding_model)\n",
    "    shredder = ShreddingTransformer()\n",
    "    vector_store = ChromaAdapter(\n",
    "        Chroma(\n",
    "            embedding_function=embeddings,\n",
    "            collection_name=collection_name,\n",
    "            persist_directory=persist_directory,\n",
    "        ),\n",
    "        shredder,\n",
    "        {\"keywords\"}\n",
    "    )\n",
    "    return GraphRetriever(\n",
    "    store = vector_store,\n",
    "    edges = [(\"keywords\", \"keywords\"), (\"source_id\", \"source_id\")],\n",
    "    strategy = Eager(k=5, start_k=5, max_depth=3),\n",
    "    )"
   ]
  },
  {
   "cell_type": "code",
   "execution_count": null,
   "metadata": {},
   "outputs": [],
   "source": [
    "from typing import Any, Literal, TypedDict, cast\n",
    "\n",
    "from langchain_core.messages import BaseMessage\n",
    "from langgraph.graph import END, START, StateGraph\n",
    "\n",
    "from agent.core.state import QueryRouter, ChefState\n",
    "from agent.core.prompts import ROUTER_SYSTEM_PROMPT\n",
    "from langchain.chat_models import init_chat_model\n",
    "\n",
    "from langchain.chat_models.base import BaseChatModel\n",
    "from langchain_core.prompts import ChatPromptTemplate\n",
    "from langchain_core.runnables import RunnableConfig, RunnablePassthrough, RunnableLambda, RunnableParallel\n",
    "from langchain_core.documents import Document\n",
    "from langchain_core.output_parsers import StrOutputParser\n",
    "from agent.utils import format_docs\n",
    "\n"
   ]
  },
  {
   "cell_type": "code",
   "execution_count": null,
   "metadata": {},
   "outputs": [],
   "source": [
    "# Agent class\n",
    "\n",
    "class ChefAgent:\n",
    "    \"\"\"The chef agent class.\"\"\"\n",
    "\n",
    "    def __init__(self, llm: BaseChatModel, graph_retriever: GraphRetriever, tools = []):\n",
    "        self.llm = llm\n",
    "        self.graph_retriever = graph_retriever\n",
    "        self.graph_builder = StateGraph(ChefState)\n",
    "    \n",
    "    @traceable(run_type=\"llm\")\n",
    "    async def _source_explaination(self, question, docs: list[Document], config: RunnableConfig):\n",
    "        se_prompt = ChatPromptTemplate.from_template(SOURCE_EXPLAINATION_PROMPT)\n",
    "        explaination_chain = se_prompt | self.llm | StrOutputParser()\n",
    "\n",
    "        se_chain = RunnableParallel(\n",
    "            question=RunnableLambda(lambda x: x[\"question\"]),\n",
    "            docs=RunnableLambda(lambda x: x[\"source\"]),\n",
    "            explainations=explaination_chain\n",
    "        )\n",
    "\n",
    "        formatted_docs = [{\"question\":question, \"source\": doc, **format_docs(doc)} for doc in docs]\n",
    "        se_response = se_chain.batch(formatted_docs)\n",
    "        return se_response \n",
    "    \n",
    "    async def search(self, state: ChefState, config: RunnableConfig) -> dict[str, Any]:\n",
    "        \"\"\"Search for recipe and cooking related documents.\"\"\"\n",
    "\n",
    "        @traceable(run_type=\"chain\")\n",
    "        def format_docs(docs:list[Document], config=None):\n",
    "            print(docs)\n",
    "            # formatted_docs = []\n",
    "            # for doc in docs:\n",
    "            #     doc_type = doc.metadata.get(\"type\")\n",
    "            #     f_doc = f\"text: {doc.page_content} metadata: {doc.metadata}\"\n",
    "            #     if doc_type == \"recipe\":\n",
    "            return {\"context\":\"\\n\\n\".join(\n",
    "                f\"text: {doc.page_content} metadata: {doc.metadata}\" for doc in docs\n",
    "            )}\n",
    "        ### Generate Search Query ###\n",
    "        generate_search_query = await self.llm.ainvoke([\n",
    "            {\"role\": \"system\", \"content\": GENERATE_SEARCH_QUERY_PROMPT}\n",
    "        ]+state.messages)\n",
    "\n",
    "        generated_query = generate_search_query[\"content\"]\n",
    "\n",
    "        ### Search On Graph ###\n",
    "        search_prompt = ChatPromptTemplate(SEARCHER_PROMPT)\n",
    "\n",
    "        ss_seperator = f\"\\n{'#'*20}\\n\"\n",
    "        search_chain = (\n",
    "            RunnableParallel(sources=self.graph_retriever, question=RunnablePassthrough())\n",
    "            | RunnablePassthrough.assign(explainations=RunnableLambda(lambda x: self._source_explaination(x[\"question\"], x[\"sources\"])))\n",
    "            | RunnablePassthrough.assign(\n",
    "                search_summary=RunnableLambda(\n",
    "                    lambda x: f\"{ss_seperator}Search Results:\\n\" + \"\\n\".join([f\"> {e['explaination']}\" for e in x['explainations']]) + ss_seperator))\n",
    "        )\n",
    "\n",
    "        search_response = await search_chain.ainvoke(generated_query)\n",
    "\n",
    "        \n",
    "        # load sources into state\n",
    "        sources_added = 0\n",
    "        for doc in search_response[\"sources\"]:\n",
    "            # check if document is already in state\n",
    "            if doc.id not in state.documents.keys():\n",
    "                sources_added += 1\n",
    "                # add document to state\n",
    "                state.documents[doc.id] = doc\n",
    "        \n",
    "        # TODO: if no new sources were added, return a message to the user\n",
    "\n",
    "        \n",
    "\n",
    "\n",
    "        "
   ]
  },
  {
   "cell_type": "code",
   "execution_count": 28,
   "metadata": {},
   "outputs": [],
   "source": [
    "from langchain.chat_models import init_chat_model\n",
    "from langchain_core.output_parsers import StrOutputParser\n",
    "\n",
    "llm = init_chat_model(\"gpt-4o-mini\", model_provider=\"openai\")\n",
    "\n",
    "test_messages = [\n",
    "    {\"role\": \"system\", \"content\": GENERATE_SEARCH_QUERY_PROMPT},\n",
    "    {\"role\": \"user\", \"content\": \"What football games are on today?\"},\n",
    "    {\"role\": \"assistant\", \"content\": \"The Cowboys play the Giants today at 7:pm.\"},\n",
    "    {\n",
    "        \"role\": \"user\", \"content\": \"I am watching a football game and I don't know who what city the Cowboys play for.\",\n",
    "    },\n",
    "]\n",
    "# generate_search_query = await llm.ainvoke([\n",
    "#             {\"role\": \"system\", \"content\": GENERATE_SEARCH_QUERY_PROMPT},\n",
    "#             {\"role\": \"user\", \"content\": \"What football games are on today?\"},\n",
    "#             {\"role\": \"assistant\", \"content\": \"The Cowboys play the Giants today at 7:pm.\"},\n",
    "#             {\"role\": \"user\", \"content\": \"I am watching a football game and I don't know who what city the Cowboys play for.\"}\n",
    "#         ])\n",
    "\n",
    "gsq_prompt = ChatPromptTemplate.from_template(GENERATE_SEARCH_QUERY_PROMPT)\n",
    "\n",
    "gsq_chain = llm | StrOutputParser()\n",
    "\n",
    "generate_search_query = await gsq_chain.ainvoke(test_messages)"
   ]
  },
  {
   "cell_type": "code",
   "execution_count": 29,
   "metadata": {},
   "outputs": [
    {
     "data": {
      "text/plain": [
       "'What city do the Dallas Cowboys play in?'"
      ]
     },
     "execution_count": 29,
     "metadata": {},
     "output_type": "execute_result"
    }
   ],
   "source": [
    "generate_search_query"
   ]
  }
 ],
 "metadata": {
  "kernelspec": {
   "display_name": "base",
   "language": "python",
   "name": "python3"
  },
  "language_info": {
   "codemirror_mode": {
    "name": "ipython",
    "version": 3
   },
   "file_extension": ".py",
   "mimetype": "text/x-python",
   "name": "python",
   "nbconvert_exporter": "python",
   "pygments_lexer": "ipython3",
   "version": "3.11.10"
  }
 },
 "nbformat": 4,
 "nbformat_minor": 2
}
