{
 "cells": [
  {
   "cell_type": "code",
   "execution_count": 1,
   "metadata": {},
   "outputs": [],
   "source": [
    "from langchain_openai import OpenAIEmbeddings\n",
    "from dotenv import load_dotenv\n",
    "\n",
    "load_dotenv(dotenv_path='../.env')\n",
    "\n",
    "embeddings = OpenAIEmbeddings(model=\"text-embedding-3-large\")"
   ]
  },
  {
   "cell_type": "code",
   "execution_count": 2,
   "metadata": {},
   "outputs": [],
   "source": [
    "from langchain_chroma.vectorstores import Chroma\n",
    "from langchain_graph_retriever.transformers import ShreddingTransformer\n",
    "\n",
    "#load the vector store \"./data/recipe_qa_combined_chroma_db\"\n",
    "vector_store = Chroma(\n",
    "    embedding_function=embeddings,\n",
    "    collection_name=\"recipe_qa_combined\",\n",
    "    persist_directory=\"./data/recipe_qa_combined_chroma_db\"\n",
    ")"
   ]
  },
  {
   "cell_type": "code",
   "execution_count": 3,
   "metadata": {},
   "outputs": [],
   "source": [
    "from graph_retriever.strategies import Eager\n",
    "from langchain_graph_retriever import GraphRetriever\n",
    "\n",
    "traversal_retriever = GraphRetriever(\n",
    "    store = vector_store,\n",
    "    edges = [(\"keywords\", \"keywords\"), (\"source_id\", \"source_id\")],\n",
    "    strategy = Eager(k=5, start_k=5, max_depth=3),\n",
    ")"
   ]
  },
  {
   "cell_type": "code",
   "execution_count": null,
   "metadata": {},
   "outputs": [
    {
     "name": "stdout",
     "output_type": "stream",
     "text": [
      "# Buckeyes\n",
      "\n",
      "## Ingredients\n",
      "- 1 stick butter, softened\n",
      "- 1 lb. powdered sugar\n",
      "- 2 c. crunchy peanut butter\n",
      "- 3 c. Rice Krispies\n",
      "- 12 oz. chocolate chips\n",
      "- 1/3 stick paraffin wax\n",
      "\n",
      "## Directions\n",
      "- Mix butter, sugar, peanut butter and Rice Krispies well.\n",
      "- Form mixture in balls about the size of a walnut.\n",
      "- Melt chocolate chips and paraffin in double boiler.\n",
      "- Dip balls in this mixture and place on wax paper until chocolate is set.\n",
      "\n",
      "# Buckeye Candy\n",
      "\n",
      "## Ingredients\n",
      "- 1 box powdered sugar\n",
      "- 8 oz. soft butter\n",
      "- 1 (8 oz.) peanut butter\n",
      "- paraffin\n",
      "- 12 oz. chocolate chips\n",
      "\n",
      "## Directions\n",
      "- Mix sugar, butter and peanut butter.\n",
      "- Roll into balls and place on cookie sheet.\n",
      "- Set in freezer for at least 30 minutes. Melt chocolate chips and paraffin in double boiler.\n",
      "- Using a toothpick, dip balls 3/4 of way into chocolate chip and paraffin mixture to make them look like buckeyes.\n",
      "\n",
      "# Buckeyes(Cookies)  \n",
      "\n",
      "## Ingredients\n",
      "- 1 (18 oz.) jar crunchy peanut butter\n",
      "- 3 c. Rice Krispies\n",
      "- 1 lb. powdered sugar\n",
      "- 1 stick oleo\n",
      "- 1 (12 oz.) chocolate chips\n",
      "- 1/2 stick paraffin wax\n",
      "\n",
      "## Directions\n",
      "- Melt oleo and combine with other ingredients.\n",
      "- Roll into small balls and place on wax paper.\n",
      "- Then melt chocolate chips and paraffin wax.\n",
      "- Then dip balls into chocolate mixture, place on wax paper and cool.\n",
      "- Makes 120 pieces.\n",
      "\n",
      "# Peanutty Fudge Rounds\n",
      "\n",
      "## Ingredients\n",
      "- 3/4 c. creamy peanut butter\n",
      "- 2 Tbsp. butter or margarine, softened\n",
      "- 1 c. sifted powdered sugar\n",
      "- 1 Tbsp. milk\n",
      "- 1 tsp. vanilla\n",
      "- 1/2 c. chopped peanuts\n",
      "- 2 c. semi-sweet chocolate pieces\n",
      "- 1/2 c. sweetened condensed milk\n",
      "\n",
      "## Directions\n",
      "- In a medium bowl, stir together peanut butter and softened butter. Add powdered sugar, milk and vanilla. Stir until well combined. Stir in peanuts. Shape the mixture into two 10-inch rolls. Set aside.\n",
      "\n",
      "# Crispy Peanut Butter Centers\n",
      "\n",
      "## Ingredients\n",
      "- 2 c. crunchy peanut butter\n",
      "- 1/2 c. margarine\n",
      "- 1 lb. confectioners sugar\n",
      "- 3 c. crisp rice cereal\n",
      "- dipping chocolate\n",
      "\n",
      "## Directions\n",
      "- Combine peanut butter, margarine and confectioners sugar in a large bowl.\n",
      "- Blend together well.\n",
      "- Add rice cereal and blend into peanut butter mixture.\n",
      "- Form into 3/4-inch balls and dip in dipping chocolate.\n",
      "\n"
     ]
    }
   ],
   "source": []
  }
 ],
 "metadata": {
  "kernelspec": {
   "display_name": "base",
   "language": "python",
   "name": "python3"
  },
  "language_info": {
   "codemirror_mode": {
    "name": "ipython",
    "version": 3
   },
   "file_extension": ".py",
   "mimetype": "text/x-python",
   "name": "python",
   "nbconvert_exporter": "python",
   "pygments_lexer": "ipython3",
   "version": "3.11.10"
  }
 },
 "nbformat": 4,
 "nbformat_minor": 2
}
