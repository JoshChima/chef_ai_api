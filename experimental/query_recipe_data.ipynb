{
 "cells": [
  {
   "cell_type": "code",
   "execution_count": 32,
   "metadata": {},
   "outputs": [],
   "source": [
    "from langchain_openai import OpenAIEmbeddings\n",
    "from dotenv import load_dotenv\n",
    "from langsmith import utils, traceable\n",
    "\n",
    "\n",
    "load_dotenv(dotenv_path='../.env')\n",
    "\n",
    "utils.tracing_is_enabled()\n",
    "\n",
    "embeddings = OpenAIEmbeddings(model=\"text-embedding-3-large\")"
   ]
  },
  {
   "cell_type": "code",
   "execution_count": 33,
   "metadata": {},
   "outputs": [],
   "source": [
    "from langchain_chroma.vectorstores import Chroma\n",
    "from langchain_graph_retriever.transformers import ShreddingTransformer\n",
    "\n",
    "#load the vector store \"./data/recipe_qa_combined_chroma_db\"\n",
    "vector_store = Chroma(\n",
    "    embedding_function=embeddings,\n",
    "    collection_name=\"recipe_qa_combined\",\n",
    "    persist_directory=\"./data/recipe_qa_combined_chroma_db\"\n",
    ")"
   ]
  },
  {
   "cell_type": "code",
   "execution_count": 34,
   "metadata": {},
   "outputs": [],
   "source": [
    "from graph_retriever.strategies import Eager\n",
    "from langchain_graph_retriever import GraphRetriever\n",
    "\n",
    "traversal_retriever = GraphRetriever(\n",
    "    store = vector_store,\n",
    "    edges = [(\"keywords\", \"keywords\"), (\"source_id\", \"source_id\")],\n",
    "    strategy = Eager(k=5, start_k=5, max_depth=3),\n",
    ")"
   ]
  },
  {
   "cell_type": "code",
   "execution_count": 35,
   "metadata": {},
   "outputs": [],
   "source": [
    "from langchain.chat_models import init_chat_model\n",
    "\n",
    "llm = init_chat_model(\"gpt-4o-mini\", model_provider=\"openai\")"
   ]
  },
  {
   "cell_type": "code",
   "execution_count": null,
   "metadata": {},
   "outputs": [],
   "source": [
    "from langchain_core.output_parsers import StrOutputParser\n",
    "from langchain_core.prompts import ChatPromptTemplate\n",
    "from langchain_core.runnables import RunnablePassthrough\n",
    "from langchain_core.documents import Document\n",
    "\n",
    "prompt = ChatPromptTemplate.from_template(\n",
    "    \"\"\"Answer the question based only on the context provided.\n",
    "\n",
    "Context: {context}\n",
    "\n",
    "Question: {question}\"\"\"\n",
    ")\n",
    "\n",
    "@traceable(run_type=\"chain\")\n",
    "def format_docs(docs:list[Document], config=None):\n",
    "    # formatted_docs = []\n",
    "    # for doc in docs:\n",
    "    #     doc_type = doc.metadata.get(\"type\")\n",
    "    #     f_doc = f\"text: {doc.page_content} metadata: {doc.metadata}\"\n",
    "    #     if doc_type == \"recipe\":\n",
    "    return {\"context\":\"\\n\\n\".join(\n",
    "        f\"text: {doc.page_content} metadata: {doc.metadata}\" for doc in docs\n",
    "    )}\n",
    "\n",
    "\n",
    "# chain = (\n",
    "#     {\"sources\": traversal_retriever}\n",
    "#     | {\"context\": RunnableLambda(lambda x: format_docs(x['sources'])), \"question\": RunnablePassthrough()}\n",
    "#     | prompt\n",
    "#     | llm\n",
    "#     | StrOutputParser()\n",
    "# )\n",
    "\n",
    "chain = (\n",
    "    {\"context\": traversal_retriever | format_docs, \"question\": RunnablePassthrough()}\n",
    "    | prompt\n",
    "    | llm\n",
    "    # | StrOutputParser()\n",
    ")"
   ]
  },
  {
   "cell_type": "code",
   "execution_count": 37,
   "metadata": {},
   "outputs": [],
   "source": [
    "response = chain.invoke(\"I'm in Ohio and I just had a small round chocolate that had peanut butter. I can't remeber the name of it. All I remember is that it had an 'eye' in the name. If you find it, get me the recipe\")"
   ]
  },
  {
   "cell_type": "code",
   "execution_count": 38,
   "metadata": {},
   "outputs": [
    {
     "name": "stdout",
     "output_type": "stream",
     "text": [
      "The treat you're referring to is likely \"Buckeyes.\" Here are the details for the recipe:\n",
      "\n",
      "### Buckeyes Recipe\n",
      "\n",
      "#### Ingredients\n",
      "- 1 stick butter, softened\n",
      "- 1 lb. powdered sugar\n",
      "- 2 c. crunchy peanut butter\n",
      "- 3 c. Rice Krispies\n",
      "- 12 oz. chocolate chips\n",
      "- 1/3 stick paraffin wax\n",
      "\n",
      "#### Directions\n",
      "1. Mix butter, sugar, peanut butter, and Rice Krispies well.\n",
      "2. Form mixture into balls about the size of a walnut.\n",
      "3. Melt chocolate chips and paraffin in a double boiler.\n",
      "4. Dip the balls in this chocolate mixture and place on wax paper until the chocolate is set. \n",
      "\n",
      "Enjoy making your Buckeyes!\n"
     ]
    }
   ],
   "source": [
    "print(response.content)"
   ]
  }
 ],
 "metadata": {
  "kernelspec": {
   "display_name": "base",
   "language": "python",
   "name": "python3"
  },
  "language_info": {
   "codemirror_mode": {
    "name": "ipython",
    "version": 3
   },
   "file_extension": ".py",
   "mimetype": "text/x-python",
   "name": "python",
   "nbconvert_exporter": "python",
   "pygments_lexer": "ipython3",
   "version": "3.11.10"
  }
 },
 "nbformat": 4,
 "nbformat_minor": 2
}
