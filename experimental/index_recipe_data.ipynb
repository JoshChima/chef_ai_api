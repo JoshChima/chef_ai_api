{
 "cells": [
  {
   "cell_type": "markdown",
   "metadata": {},
   "source": [
    "# Indexing Recipes Using LazyGraphRag\n",
    "This notebook demonstrates how to index using the LazyGraphRag library.\n",
    "\n",
    "Learn more about LazyGraphRag here: [GraphRAG](https://datastax.github.io/graph-rag/examples/lazy-graph-rag/?h=lazy)\n",
    "\n",
    "## Datasets\n",
    "The datasets used in this notebook are:\n",
    "- **CookingRecipes Dataset**:\n",
    "    source: https://huggingface.co/datasets/CodeKapital/CookingRecipes\n",
    "    description: A dataset of cooking recipes with ingredients, directions, and other relevant information.\n",
    "- **Q&A For Recipes Dataset**:\n",
    "    source: https://huggingface.co/datasets/Hieu-Pham/cooking_squad\n",
    "    description: A dataset of cooking-related questions and answers to help users troubleshoot issues with recipe directions. The context of the questions are recipes from the CookingRecipes dataset.\n",
    "- **General preference Q&A Dataset**:\n",
    "    source: https://huggingface.co/datasets/andrewsiah/se_cooking_preference_sft\n",
    "    description: A dataset of questions and answers to help better inform users about cooking techniques and ingredients."
   ]
  },
  {
   "cell_type": "markdown",
   "metadata": {},
   "source": [
    "## Instantiation"
   ]
  },
  {
   "cell_type": "code",
   "execution_count": 1,
   "metadata": {},
   "outputs": [],
   "source": [
    "from langchain_openai import OpenAIEmbeddings\n",
    "from dotenv import load_dotenv\n",
    "\n",
    "load_dotenv(dotenv_path='../.env')\n",
    "\n",
    "embeddings = OpenAIEmbeddings(model=\"text-embedding-3-large\")"
   ]
  },
  {
   "cell_type": "markdown",
   "metadata": {},
   "source": [
    "## Prepare Recipe Data"
   ]
  },
  {
   "cell_type": "code",
   "execution_count": 2,
   "metadata": {},
   "outputs": [],
   "source": [
    "import pandas as pd \n",
    "\n",
    "recipes_data = pd.read_csv('hf://datasets/CodeKapital/CookingRecipes/Data.csv', nrows=3000)\n",
    "\n",
    "# rename the columns 'Unnamed: 0' to 'i64'\n",
    "recipes_data.rename(columns={'Unnamed: 0':'i64'}, inplace=True)"
   ]
  },
  {
   "cell_type": "code",
   "execution_count": 3,
   "metadata": {},
   "outputs": [],
   "source": [
    "import json\n",
    "import re\n",
    "regex = re.compile('[^a-zA-Z]')\n",
    "\n",
    "recipes_df = recipes_data.copy()\n",
    "\n",
    "# drop duplcates on the 'titlee' column\n",
    "recipes_df.drop_duplicates(subset='title', inplace=True)\n",
    "# rename the column \"NER\" to \"ner\"\n",
    "recipes_df.rename(columns={'NER':'ner'}, inplace=True)\n",
    "\n",
    "# create an id column that is a combination of the title and i64. title should be lowercased and spaces replaced with underscores. # Remove any non-alphanumeric characters from the id column\n",
    "recipes_df['source_id'] = recipes_df.apply(lambda x: f\"{x['i64']}_{regex.sub('', x['title']).lower().replace(' ', '_')}\", axis=1)\n",
    "# apply json.load to directions, ingredients and NER columns\n",
    "recipes_df['directions'] = recipes_df['directions'].apply(json.loads)\n",
    "recipes_df['ingredients'] = recipes_df['ingredients'].apply(json.loads)\n",
    "recipes_df['ner'] = recipes_df['ner'].apply(json.loads)"
   ]
  },
  {
   "cell_type": "code",
   "execution_count": 4,
   "metadata": {},
   "outputs": [],
   "source": [
    "# NOTE: The AI will recieve recipe context formatted as Markdown.\n",
    "\n",
    "# Create a function that takes a row fro the recipe dataset and returns a string in markdown format\n",
    "recipe_format_md = lambda r: \"\"\"# {title}\n",
    "\n",
    "## Ingredients\n",
    "- {ingredients}\n",
    "\n",
    "## Directions\n",
    "- {directions}\n",
    "\"\"\".format(title=r['title'], ingredients='\\n- '.join(r['ingredients']), directions='\\n- '.join(r['directions']))\n",
    "\n",
    "recipes_df['md'] = recipes_df.apply(recipe_format_md, axis=1)\n",
    "\n",
    "\n",
    "#########\n",
    "# uncomment the following line to test the function on a single row\n",
    "# print(recipes_df['md'][0])\n",
    "#########\n"
   ]
  },
  {
   "cell_type": "markdown",
   "metadata": {},
   "source": [
    "### Recipe Documents\n",
    "Before loading the recipe data, we need to prepare the recipe documents.\n",
    "The `page_content` will be the Markdown representation of the recipe.\n",
    "LazyGraphRag will generate the graph edges using metadata from the recipe documents:\n",
    "- `keywords`: The CookingRecipes dataset came with a `ner` field that contains entities extracted from the recipe. These entities would be ingredients found in the recipe.\n",
    "- `source_id`: The unique identifier for the recipe.\n",
    "- `type`: All recipes will have the type `recipe`. This will help distinguish the recipe nodes from other nodes in the graph, such as the question-answer nodes."
   ]
  },
  {
   "cell_type": "code",
   "execution_count": 5,
   "metadata": {},
   "outputs": [],
   "source": [
    "from langchain_core.documents import Document\n",
    "\n",
    "# convert the recipes to langchain documents\n",
    "recipe_docs = [Document(page_content=r['md'], id=r['source_id'], metadata={'keywords':r['ner'], 'source_id': r['source_id'], 'type':'recipe'}) for r in recipes_df.to_dict(orient='records')]"
   ]
  },
  {
   "cell_type": "markdown",
   "metadata": {},
   "source": [
    "## Prepare Cooking Q&A W/ Recipe Context\n",
    "As discussed earlier, [Hieu-Pham's dataset](https://huggingface.co/datasets/Hieu-Pham/cooking_squad) contains questions and answers related to the CookingRecipes dataset. We will use this dataset to generate the question-answer nodes in the graph. We will leverage the connection between the recipe and the question-answer nodes to generate the graph edges."
   ]
  },
  {
   "cell_type": "code",
   "execution_count": 6,
   "metadata": {},
   "outputs": [],
   "source": [
    "recipe_qa_df = pd.read_json(\"hf://datasets/Hieu-Pham/cooking_squad/squad_cooking_transformed.json\")\n",
    "\n",
    "# explode the 'answers' column\n",
    "recipe_qa_df['answer_start'] = recipe_qa_df['answers'].apply(lambda x: x['answer_start'])\n",
    "recipe_qa_df['answer'] = recipe_qa_df['answers'].apply(lambda x: x['text'])\n",
    "\n",
    "# drop the initial 'answers' column\n",
    "recipe_qa_df.drop(columns=['answers'], inplace=True)\n",
    "\n",
    "# Grab the title of the column from splitting the 'context' column on the first '\\n'\n",
    "recipe_qa_df['title'] = recipe_qa_df['context'].apply(lambda x: x.split('\\n')[0])\n",
    "# drop the original 'context' column\n",
    "recipe_qa_df.drop(columns=['context'], inplace=True)\n",
    "\n",
    "# join recipe_qa_df with recipes_df on the 'title' column. keep all rows in recipe_qa_df\n",
    "recipe_qa_df = recipe_qa_df.merge(recipes_df[['title', 'source_id', 'md']], on='title', how='left')\n",
    "\n",
    "# rename the 'md' column to 'context'\n",
    "recipe_qa_df.rename(columns={'md':'context'}, inplace=True)\n",
    "\n",
    "# format the qa pairs in markdown for the AI\n",
    "qa_format_md = lambda qa: \"\"\"\n",
    "The context for this question is a recipe titled *{title}*\n",
    "\n",
    "Question: {question}\n",
    "Answer: {answer}\n",
    "\"\"\".format(question=qa['question'], answer=qa['answer'], title=qa['title'])\n",
    "\n",
    "recipe_qa_df['md'] = recipe_qa_df.apply(qa_format_md, axis=1)\n",
    "\n",
    "# rename the 'id' column to 'qa_id'\n",
    "recipe_qa_df.rename(columns={'id':'qa_id'}, inplace=True)\n"
   ]
  },
  {
   "cell_type": "markdown",
   "metadata": {},
   "source": [
    "### Question & Answer Documents\n",
    "Before loading the recipe data, we need to prepare the documents again.\n",
    "The `page_content` will be the Markdown representation of the Q&A.\n",
    "LazyGraphRag will generate the graph edges using metadata from the documents:\n",
    "- `source_id`: The unique identifier for the recipe context linked to the document.\n",
    "- `type`: All Q&A documents will have the type `question-answer`. This will help distinguish the nodes from other nodes in the graph."
   ]
  },
  {
   "cell_type": "code",
   "execution_count": 7,
   "metadata": {},
   "outputs": [],
   "source": [
    "\n",
    "# Prepare Question-Answer Document\n",
    "recipe_qa_docs = [Document(page_content=qa['md'], id=qa['qa_id'], metadata={'source_id': qa['source_id'], 'type':'question-answer'}) for qa in recipe_qa_df.to_dict(orient='records')]"
   ]
  },
  {
   "cell_type": "markdown",
   "metadata": {},
   "source": [
    "## Populating the Vector store"
   ]
  },
  {
   "cell_type": "code",
   "execution_count": 8,
   "metadata": {},
   "outputs": [],
   "source": [
    "from langchain_chroma.vectorstores import Chroma\n",
    "from langchain_graph_retriever.transformers import ShreddingTransformer\n",
    "\n",
    "#########\n",
    "# If you want to only store the recipe documents, uncomment the following variable assignment and comment the one below it\n",
    "# vector_store = Chroma.from_documents(\n",
    "#     documents=list(ShreddingTransformer().transform_documents(recipe_docs)),\n",
    "#     embedding=embeddings,\n",
    "#     collection_name=\"recipes\",\n",
    "#     persist_directory=\"./data/recipes_chroma_db\"\n",
    "# )\n",
    "#########\n",
    "shredder = ShreddingTransformer() \n",
    "vector_store = Chroma.from_documents(\n",
    "    documents=list(shredder.transform_documents(recipe_docs + recipe_qa_docs)),\n",
    "    embedding=embeddings,\n",
    "    collection_name=\"recipe_qa_combined\",\n",
    "    persist_directory=\"./data/recipe_qa_combined_chroma_db\"\n",
    ")"
   ]
  },
  {
   "cell_type": "markdown",
   "metadata": {},
   "source": [
    "## Graph Traversal"
   ]
  },
  {
   "cell_type": "code",
   "execution_count": 9,
   "metadata": {},
   "outputs": [],
   "source": [
    "from graph_retriever.strategies import Eager\n",
    "from langchain_graph_retriever import GraphRetriever\n",
    "from langchain_graph_retriever.adapters.chroma import ChromaAdapter\n",
    "\n",
    "traversal_retriever = GraphRetriever(\n",
    "    store = ChromaAdapter(vector_store, shredder, {\"keywords\"}),\n",
    "    edges = [(\"keywords\", \"keywords\"), (\"source_id\", \"source_id\")],\n",
    "    strategy = Eager(k=5, start_k=2, max_depth=3),\n",
    ")"
   ]
  },
  {
   "cell_type": "code",
   "execution_count": 18,
   "metadata": {},
   "outputs": [
    {
     "name": "stdout",
     "output_type": "stream",
     "text": [
      "2437_buckeyes:\n",
      "# Buckeyes\n",
      "\n",
      "## Ingredients\n",
      "- 1 stick butter, softened\n",
      "- 1 lb. powdered sugar\n",
      "- 2 c. crunchy peanut butter\n",
      "- 3 c. Rice Krispies\n",
      "- 12 oz. chocolate chips\n",
      "- 1/3 stick paraffin wax\n",
      "\n",
      "## Directions\n",
      "- Mix butter, sugar, peanut butter and Rice Krispies well.\n",
      "- Form mixture in balls about the size of a walnut.\n",
      "- Melt chocolate chips and paraffin in double boiler.\n",
      "- Dip balls in this mixture and place on wax paper until chocolate is set.\n",
      "\n",
      "11_buckeyecandy:\n",
      "# Buckeye Candy\n",
      "\n",
      "## Ingredients\n",
      "- 1 box powdered sugar\n",
      "- 8 oz. soft butter\n",
      "- 1 (8 oz.) peanut butter\n",
      "- paraffin\n",
      "- 12 oz. chocolate chips\n",
      "\n",
      "## Directions\n",
      "- Mix sugar, butter and peanut butter.\n",
      "- Roll into balls and place on cookie sheet.\n",
      "- Set in freezer for at least 30 minutes. Melt chocolate chips and paraffin in double boiler.\n",
      "- Using a toothpick, dip balls 3/4 of way into chocolate chip and paraffin mixture to make them look like buckeyes.\n",
      "\n",
      "409_buckeyescookies:\n",
      "# Buckeyes(Cookies)  \n",
      "\n",
      "## Ingredients\n",
      "- 1 (18 oz.) jar crunchy peanut butter\n",
      "- 3 c. Rice Krispies\n",
      "- 1 lb. powdered sugar\n",
      "- 1 stick oleo\n",
      "- 1 (12 oz.) chocolate chips\n",
      "- 1/2 stick paraffin wax\n",
      "\n",
      "## Directions\n",
      "- Melt oleo and combine with other ingredients.\n",
      "- Roll into small balls and place on wax paper.\n",
      "- Then melt chocolate chips and paraffin wax.\n",
      "- Then dip balls into chocolate mixture, place on wax paper and cool.\n",
      "- Makes 120 pieces.\n",
      "\n",
      "2495_peanuttyfudgerounds:\n",
      "# Peanutty Fudge Rounds\n",
      "\n",
      "## Ingredients\n",
      "- 3/4 c. creamy peanut butter\n",
      "- 2 Tbsp. butter or margarine, softened\n",
      "- 1 c. sifted powdered sugar\n",
      "- 1 Tbsp. milk\n",
      "- 1 tsp. vanilla\n",
      "- 1/2 c. chopped peanuts\n",
      "- 2 c. semi-sweet chocolate pieces\n",
      "- 1/2 c. sweetened condensed milk\n",
      "\n",
      "## Directions\n",
      "- In a medium bowl, stir together peanut butter and softened butter. Add powdered sugar, milk and vanilla. Stir until well combined. Stir in peanuts. Shape the mixture into two 10-inch rolls. Set aside.\n",
      "\n",
      "2601_crispypeanutbuttercenters:\n",
      "# Crispy Peanut Butter Centers\n",
      "\n",
      "## Ingredients\n",
      "- 2 c. crunchy peanut butter\n",
      "- 1/2 c. margarine\n",
      "- 1 lb. confectioners sugar\n",
      "- 3 c. crisp rice cereal\n",
      "- dipping chocolate\n",
      "\n",
      "## Directions\n",
      "- Combine peanut butter, margarine and confectioners sugar in a large bowl.\n",
      "- Blend together well.\n",
      "- Add rice cereal and blend into peanut butter mixture.\n",
      "- Form into 3/4-inch balls and dip in dipping chocolate.\n",
      "\n"
     ]
    }
   ],
   "source": [
    "# Test the retrieval on a single question. This should return relevant recipes and their context\n",
    "results = traversal_retriever.invoke(\"I'm in Ohio and I just had a small round chocolate that had peanut butter. I can't remeber the name of it. All I remember is that it had an 'eye' in the name. If you find it, get me the recipe\")\n",
    "#########\n",
    "# If you want to test the retrieval on a single question that test the retrieval of a Q&A on a specific recipe, uncomment the following line\n",
    "# results = traversal_retriever.invoke(\"No Bake Cookies: How long should the clusters stand until the firm up?\")\n",
    "#########\n",
    "for doc in results:\n",
    "    print(f\"{doc.id}:\\n{doc.page_content}\")\n",
    "    # print(doc.page_content)"
   ]
  },
  {
   "cell_type": "markdown",
   "metadata": {},
   "source": [
    "## Use within a chain"
   ]
  },
  {
   "cell_type": "code",
   "execution_count": 37,
   "metadata": {},
   "outputs": [],
   "source": [
    "from langchain.chat_models import init_chat_model\n",
    "\n",
    "llm = init_chat_model(\"gpt-4o-mini\", model_provider=\"openai\")"
   ]
  },
  {
   "cell_type": "code",
   "execution_count": null,
   "metadata": {},
   "outputs": [],
   "source": [
    "from langchain_core.output_parsers import StrOutputParser\n",
    "from langchain_core.prompts import ChatPromptTemplate\n",
    "from langchain_core.runnables import RunnablePassthrough\n",
    "\n",
    "prompt = ChatPromptTemplate.from_template(\n",
    "    \"\"\"Answer the question based only on the context provided.\n",
    "\n",
    "Context: {context}\n",
    "\n",
    "Question: {question}\"\"\"\n",
    ")\n",
    "\n",
    "\n",
    "def format_docs(docs):\n",
    "    return \"\\n\\n\".join(\n",
    "        f\"text: {doc.page_content} metadata: {doc.metadata}\" for doc in docs\n",
    "    )\n",
    "\n",
    "\n",
    "# chain = (\n",
    "#     {\"sources\": traversal_retriever}\n",
    "#     | {\"context\": RunnableLambda(lambda x: format_docs(x['sources'])), \"question\": RunnablePassthrough()}\n",
    "#     | prompt\n",
    "#     | llm\n",
    "#     | StrOutputParser()\n",
    "# )\n",
    "\n",
    "chain = (\n",
    "    {\"context\": traversal_retriever | format_docs, \"question\": RunnablePassthrough()}\n",
    "    | prompt\n",
    "    | llm\n",
    "    # | StrOutputParser()\n",
    ")"
   ]
  },
  {
   "cell_type": "code",
   "execution_count": 48,
   "metadata": {},
   "outputs": [
    {
     "data": {
      "text/plain": [
       "AIMessage(content='Sure! Here are some seafood recipes you can try:\\n\\n1. **Seafood Casserole**\\n   - Ingredients: shrimp, scallops, flour, butter, mushrooms, onion, light cream, buttered Ritz crackers, water, and white wine.\\n   - Directions: Boil water and wine, cook shrimp and scallops, then combine with other ingredients for a delicious casserole.\\n\\n2. **Seafood And Pasta Salad**\\n   - Ingredients: scallops, cooked shrimp, imitation crab, green onions, olive oil, boiled eggs, mayonnaise, and tri-colored rotini noodles.\\n   - Directions: Boil noodles, sauté scallops, and mix with other ingredients for a refreshing salad.\\n\\n3. **Bouillabaisse**\\n   - Ingredients: minced onions, leeks, olive oil, garlic, canned tomatoes, water, parsley, thyme, saffron, assorted fish and shellfish.\\n   - Directions: Cook vegetables, add stock and seafood, then bring to boil for a flavorful soup.\\n\\n4. **Creole Flounder**\\n   - Ingredients: flounder or pollack fillets, chopped tomatoes, green pepper, lemon juice, salad oil, salt, onion, basil, and red pepper sauce.\\n   - Directions: Bake the fish with a mix of the ingredients for a spicy and delicious dish.\\n\\n5. **Shrimp With Tomato Sauce**\\n   - Ingredients: frozen shrimp, onion, jalapeno pepper, garlic, tomatoes, celery, lemon or lime juice, salt, sugar, pepper, parsley, and rice.\\n   - Directions: Sauté vegetables, add tomatoes and shrimp, then serve over rice for a hearty meal.\\n\\nFeel free to choose any of these recipes based on your preference!', additional_kwargs={'refusal': None}, response_metadata={'token_usage': {'completion_tokens': 347, 'prompt_tokens': 1521, 'total_tokens': 1868, 'completion_tokens_details': {'accepted_prediction_tokens': 0, 'audio_tokens': 0, 'reasoning_tokens': 0, 'rejected_prediction_tokens': 0}, 'prompt_tokens_details': {'audio_tokens': 0, 'cached_tokens': 1408}}, 'model_name': 'gpt-4o-mini-2024-07-18', 'system_fingerprint': 'fp_7fcd609668', 'finish_reason': 'stop', 'logprobs': None}, id='run-c399c1ee-b92f-4fab-9c18-2ba5f525fba0-0', usage_metadata={'input_tokens': 1521, 'output_tokens': 347, 'total_tokens': 1868, 'input_token_details': {'audio': 0, 'cache_read': 1408}, 'output_token_details': {'audio': 0, 'reasoning': 0}})"
      ]
     },
     "execution_count": 48,
     "metadata": {},
     "output_type": "execute_result"
    }
   ],
   "source": [
    "# response = chain.invoke(\"I'm in Ohio and I just had a small round chocolate that had peanut butter. I can't remeber the name of it. All I remember is that it had an 'eye' in the name. If you find it, get me the recipe\")\n",
    "# response = chain.invoke(\"What are some recipe that use chocolate and creamcheese? Give me the recipes\")\n",
    "response = chain.invoke(\"I'm looking for some seafood recipes. Can you help me?\")\n",
    "# response = chain.invoke(\"I'm looking for some chili recipes that use pork tenderloin?\")\n",
    "# response = chain.invoke(\"What is the id for the recipe Fruit Medley?\")\n",
    "response"
   ]
  },
  {
   "cell_type": "code",
   "execution_count": 49,
   "metadata": {},
   "outputs": [
    {
     "data": {
      "text/plain": [
       "{'content': 'Sure! Here are some seafood recipes you can try:\\n\\n1. **Seafood Casserole**\\n   - Ingredients: shrimp, scallops, flour, butter, mushrooms, onion, light cream, buttered Ritz crackers, water, and white wine.\\n   - Directions: Boil water and wine, cook shrimp and scallops, then combine with other ingredients for a delicious casserole.\\n\\n2. **Seafood And Pasta Salad**\\n   - Ingredients: scallops, cooked shrimp, imitation crab, green onions, olive oil, boiled eggs, mayonnaise, and tri-colored rotini noodles.\\n   - Directions: Boil noodles, sauté scallops, and mix with other ingredients for a refreshing salad.\\n\\n3. **Bouillabaisse**\\n   - Ingredients: minced onions, leeks, olive oil, garlic, canned tomatoes, water, parsley, thyme, saffron, assorted fish and shellfish.\\n   - Directions: Cook vegetables, add stock and seafood, then bring to boil for a flavorful soup.\\n\\n4. **Creole Flounder**\\n   - Ingredients: flounder or pollack fillets, chopped tomatoes, green pepper, lemon juice, salad oil, salt, onion, basil, and red pepper sauce.\\n   - Directions: Bake the fish with a mix of the ingredients for a spicy and delicious dish.\\n\\n5. **Shrimp With Tomato Sauce**\\n   - Ingredients: frozen shrimp, onion, jalapeno pepper, garlic, tomatoes, celery, lemon or lime juice, salt, sugar, pepper, parsley, and rice.\\n   - Directions: Sauté vegetables, add tomatoes and shrimp, then serve over rice for a hearty meal.\\n\\nFeel free to choose any of these recipes based on your preference!',\n",
       " 'additional_kwargs': {'refusal': None},\n",
       " 'response_metadata': {'token_usage': {'completion_tokens': 347,\n",
       "   'prompt_tokens': 1521,\n",
       "   'total_tokens': 1868,\n",
       "   'completion_tokens_details': {'accepted_prediction_tokens': 0,\n",
       "    'audio_tokens': 0,\n",
       "    'reasoning_tokens': 0,\n",
       "    'rejected_prediction_tokens': 0},\n",
       "   'prompt_tokens_details': {'audio_tokens': 0, 'cached_tokens': 1408}},\n",
       "  'model_name': 'gpt-4o-mini-2024-07-18',\n",
       "  'system_fingerprint': 'fp_7fcd609668',\n",
       "  'finish_reason': 'stop',\n",
       "  'logprobs': None},\n",
       " 'type': 'ai',\n",
       " 'name': None,\n",
       " 'id': 'run-c399c1ee-b92f-4fab-9c18-2ba5f525fba0-0',\n",
       " 'example': False,\n",
       " 'tool_calls': [],\n",
       " 'invalid_tool_calls': [],\n",
       " 'usage_metadata': {'input_tokens': 1521,\n",
       "  'output_tokens': 347,\n",
       "  'total_tokens': 1868,\n",
       "  'input_token_details': {'audio': 0, 'cache_read': 1408},\n",
       "  'output_token_details': {'audio': 0, 'reasoning': 0}}}"
      ]
     },
     "execution_count": 49,
     "metadata": {},
     "output_type": "execute_result"
    }
   ],
   "source": [
    "response.model_dump()"
   ]
  },
  {
   "cell_type": "code",
   "execution_count": 28,
   "metadata": {},
   "outputs": [
    {
     "name": "stdout",
     "output_type": "stream",
     "text": [
      "# Seafood And Pasta Salad\n",
      "\n",
      "## Ingredients\n",
      "- 1 lb. scallops\n",
      "- 1 lb. cooked shrimp\n",
      "- 1/2 lb. imitation crab\n",
      "- 4 green onions\n",
      "- 1 tsp. olive oil\n",
      "- 4 boiled eggs\n",
      "- 2 c. Best Foods mayonnaise\n",
      "- 1 bag tri-colored rotini noodles, cooked and drained\n",
      "\n",
      "## Directions\n",
      "1. Boil the noodles, then rinse and put in a bowl which you will be using for serving the salad.\n",
      "2. Saute scallops in the olive oil. Add the scallops along with the rest of the seafood to the noodles.\n",
      "3. Dice the green onions (exclude the chive part) and boiled eggs.\n",
      "4. Add to the salad.\n",
      "5. Add mayonnaise; use more or less for taste.\n",
      "6. Mix ingredients together.\n",
      "7. Ready to serve!\n"
     ]
    }
   ],
   "source": [
    "response = chain.invoke(\"Get me the recipe for Seafood And Pasta Salad\")\n",
    "print(response)"
   ]
  }
 ],
 "metadata": {
  "kernelspec": {
   "display_name": "base",
   "language": "python",
   "name": "python3"
  },
  "language_info": {
   "codemirror_mode": {
    "name": "ipython",
    "version": 3
   },
   "file_extension": ".py",
   "mimetype": "text/x-python",
   "name": "python",
   "nbconvert_exporter": "python",
   "pygments_lexer": "ipython3",
   "version": "3.11.10"
  }
 },
 "nbformat": 4,
 "nbformat_minor": 2
}
